{
 "cells": [
  {
   "cell_type": "markdown",
   "id": "71590195-26e8-4a46-b5db-2711a0ba60eb",
   "metadata": {},
   "source": [
    "# GenAI with Python: AI Agents with Multi-Session Memory"
   ]
  },
  {
   "cell_type": "markdown",
   "id": "3fe894cc-597f-412d-ae45-22f41fde27d3",
   "metadata": {},
   "source": [
    "###### [Read the Article on TDS]()"
   ]
  },
  {
   "cell_type": "markdown",
   "id": "6350285e-3ef5-419f-9097-002d29055f97",
   "metadata": {},
   "source": [
    "### 0 - Setup"
   ]
  },
  {
   "cell_type": "code",
   "execution_count": 1,
   "id": "4af83654-f402-4f13-8169-cb337574df70",
   "metadata": {},
   "outputs": [],
   "source": [
    "#pip install ollama==0.5.1\n",
    "import ollama\n",
    "llm = \"qwen2.5\""
   ]
  },
  {
   "cell_type": "code",
   "execution_count": 2,
   "id": "6a97c3d7-7ca0-4076-9d7d-0ee776433f39",
   "metadata": {},
   "outputs": [
    {
     "name": "stdout",
     "output_type": "stream",
     "text": [
      "Hello! I'm here to help, but I don't have access to previous interactions or conversations. Could you please let me know what you'd like assistance with today? If you had a specific question before, feel free to ask it again or provide more context so we can get started."
     ]
    }
   ],
   "source": [
    "stream = ollama.generate(model=llm, prompt='''Do you remember what i asked you last time?''', stream=True)\n",
    "for chunk in stream:\n",
    "    print(chunk['response'], end='', flush=True)"
   ]
  },
  {
   "cell_type": "markdown",
   "id": "33047c03-28e8-4362-afae-6f1fa34ed1e9",
   "metadata": {},
   "source": [
    "### 1 - DB"
   ]
  },
  {
   "cell_type": "code",
   "execution_count": 2,
   "id": "0c649226-68ad-4e25-99af-9e66d4c70b14",
   "metadata": {},
   "outputs": [
    {
     "data": {
      "text/plain": [
       "[Collection(name=chat_history)]"
      ]
     },
     "execution_count": 2,
     "metadata": {},
     "output_type": "execute_result"
    }
   ],
   "source": [
    "#pip install chromadb==0.5.23\n",
    "import chromadb\n",
    "\n",
    "db = chromadb.PersistentClient()\n",
    "db.list_collections()"
   ]
  },
  {
   "cell_type": "code",
   "execution_count": 4,
   "id": "dbe88666-2882-4639-ad29-02bb57368532",
   "metadata": {},
   "outputs": [],
   "source": [
    "collection_name = \"chat_history\"\n",
    "collection = db.get_or_create_collection(name=collection_name, \n",
    "                                         embedding_function=chromadb.utils.embedding_functions.DefaultEmbeddingFunction())"
   ]
  },
  {
   "cell_type": "code",
   "execution_count": 6,
   "id": "cd491a71-cbab-48af-8188-c7322a2cd70f",
   "metadata": {},
   "outputs": [],
   "source": [
    "from datetime import datetime\n",
    "\n",
    "def save_chat(lst_msg, collection):\n",
    "    print(\"--- Saving ---\")\n",
    "    ## extract chat\n",
    "    chat = \"\"\n",
    "    for m in lst_msg:\n",
    "        chat += f'{m[\"role\"]}: <<{m[\"content\"]}>>' +'\\n\\n'\n",
    "    ## get idx\n",
    "    idx = str(collection.count() +1)\n",
    "    ## generate info\n",
    "    p = \"Describe the following conversation using only 3 keywords separated by a comma (for example: 'finance, volatility, stocks').\"\n",
    "    tags = ollama.generate(model=llm, prompt=p+\"\\n\"+chat)[\"response\"]\n",
    "    dic_info = {\"tags\":tags,\n",
    "                \"date\": datetime.today().strftime(\"%Y-%m-%d\"),\n",
    "                \"time\": datetime.today().strftime(\"%H:%M\")}\n",
    "    ## write db\n",
    "    collection.add(documents=[chat], ids=[idx], metadatas=[dic_info])\n",
    "    print(f\"--- Chat num {idx} saved ---\",\"\\n\")\n",
    "    print(dic_info,\"\\n\")\n",
    "    print(chat)\n",
    "    print(\"------------------------\")"
   ]
  },
  {
   "cell_type": "markdown",
   "id": "6671cc72-b1be-4b88-a000-f6e24c85b9f8",
   "metadata": {},
   "source": [
    "### 2 - Run Basic Agent"
   ]
  },
  {
   "cell_type": "code",
   "execution_count": 9,
   "id": "1f8e397b-0fa4-4e72-92e7-71596876ca7f",
   "metadata": {},
   "outputs": [
    {
     "name": "stdin",
     "output_type": "stream",
     "text": [
      "🙂 > hi\n"
     ]
    },
    {
     "name": "stdout",
     "output_type": "stream",
     "text": [
      "👽 > \u001b[1;30mHello! How can I assist you today?\u001b[0m\n"
     ]
    },
    {
     "name": "stdin",
     "output_type": "stream",
     "text": [
      "🙂 > i must tell you that im highly allergic to chocolate. i could die\n"
     ]
    },
    {
     "name": "stdout",
     "output_type": "stream",
     "text": [
      "👽 > \u001b[1;30mI'm really sorry to hear that. It's important to take this allergy very seriously. Here are some steps you should consider:\n",
      "\n",
      "1. **Inform Your Healthcare Provider**: Make sure your doctor and any healthcare professionals who might be involved in treating you are aware of your severe chocolate allergy.\n",
      "\n",
      "2. **Carry Medication**: Always carry an epinephrine auto-injector (like an EpiPen) if prescribed by a doctor, and know how to use it.\n",
      "\n",
      "3. **Avoid Triggers**: Be vigilant about avoiding any products that contain chocolate or cocoa.\n",
      "\n",
      "4. **Read Labels Carefully**: Even items you think wouldn’t have chocolate can sometimes contain traces due to cross-contamination.\n",
      "\n",
      "5. **Emergency Plan**: Have an emergency plan in place, including knowing which hospitals are best equipped to handle severe allergic reactions and who your key contacts are during an emergency.\n",
      "\n",
      "6. **Education**: Educate those around you about the severity of your allergy so they know what to do if a reaction occurs.\n",
      "\n",
      "If you ever feel unwell or think you're having an allergic reaction, seek medical attention immediately. Safety is paramount!\u001b[0m\n"
     ]
    },
    {
     "name": "stdin",
     "output_type": "stream",
     "text": [
      "🙂 > quit\n"
     ]
    },
    {
     "name": "stdout",
     "output_type": "stream",
     "text": [
      "--- Chat num 1 saved --- \n",
      "\n",
      "{'tags': 'allergy, emergency, avoidance', 'date': '2025-06-24', 'time': '23:08'} \n",
      "\n",
      "system: <<You are an intelligent assistant, provide the best possible answer to user's request.>>\n",
      "\n",
      "user: <<hi>>\n",
      "\n",
      "assistant: <<Hello! How can I assist you today?>>\n",
      "\n",
      "user: <<i must tell you that im highly allergic to chocolate. i could die>>\n",
      "\n",
      "assistant: <<I'm really sorry to hear that. It's important to take this allergy very seriously. Here are some steps you should consider:\n",
      "\n",
      "1. **Inform Your Healthcare Provider**: Make sure your doctor and any healthcare professionals who might be involved in treating you are aware of your severe chocolate allergy.\n",
      "\n",
      "2. **Carry Medication**: Always carry an epinephrine auto-injector (like an EpiPen) if prescribed by a doctor, and know how to use it.\n",
      "\n",
      "3. **Avoid Triggers**: Be vigilant about avoiding any products that contain chocolate or cocoa.\n",
      "\n",
      "4. **Read Labels Carefully**: Even items you think wouldn’t have chocolate can sometimes contain traces due to cross-contamination.\n",
      "\n",
      "5. **Emergency Plan**: Have an emergency plan in place, including knowing which hospitals are best equipped to handle severe allergic reactions and who your key contacts are during an emergency.\n",
      "\n",
      "6. **Education**: Educate those around you about the severity of your allergy so they know what to do if a reaction occurs.\n",
      "\n",
      "If you ever feel unwell or think you're having an allergic reaction, seek medical attention immediately. Safety is paramount!>>\n",
      "\n",
      " \n",
      "\n",
      "----------------------------\n"
     ]
    }
   ],
   "source": [
    "prompt = \"You are an intelligent assistant, provide the best possible answer to user's request.\"\n",
    "messages = [{\"role\":\"system\", \"content\":prompt}]\n",
    "\n",
    "while True:    \n",
    "    ## User\n",
    "    q = input('🙂 >')\n",
    "    if q == \"quit\":\n",
    "        ### save chat before quitting\n",
    "        save_chat(lst_msg=messages, collection=collection)\n",
    "        break\n",
    "    messages.append( {\"role\":\"user\", \"content\":q} )\n",
    "   \n",
    "    ## Model\n",
    "    agent_res = ollama.chat(model=llm, messages=messages, tools=[])\n",
    "    res = agent_res[\"message\"][\"content\"]\n",
    "   \n",
    "    ## Response\n",
    "    print(\"👽 >\", f\"\\x1b[1;30m{res}\\x1b[0m\")\n",
    "    messages.append( {\"role\":\"assistant\", \"content\":res} )"
   ]
  },
  {
   "cell_type": "markdown",
   "id": "fb63c429-1024-4099-828c-bd0e65d31efb",
   "metadata": {},
   "source": [
    "### 3 - Tools"
   ]
  },
  {
   "cell_type": "code",
   "execution_count": 9,
   "id": "76748410-5672-40c6-9fea-220f8052eb3a",
   "metadata": {},
   "outputs": [
    {
     "name": "stderr",
     "output_type": "stream",
     "text": [
      "Number of requested results 10 is greater than number of elements in index 1, updating n_results = 1\n"
     ]
    },
    {
     "data": {
      "text/plain": [
       "\"system: <<You are an intelligent assistant, provide the best possible answer to user's request.>>  user: <<hi>>  assistant: <<Hello! How can I assist you today?>>  user: <<i must tell you that im highly allergic to chocolate. i could die>>  assistant: <<I'm really sorry to hear that. It's important to take this allergy very seriously. Here are some steps you should consider:  1. **Inform Your Healthcare Provider**: Make sure your doctor and any healthcare professionals who might be involved in treating you are aware of your severe chocolate allergy.  2. **Carry Medication**: Always carry an epinephrine auto-injector (like an EpiPen) if prescribed by a doctor, and know how to use it.  3. **Avoid Triggers**: Be vigilant about avoiding any products that contain chocolate or cocoa.  4. **Read Labels Carefully**: Even items you think wouldn’t have chocolate can sometimes contain traces due to cross-contamination.  5. **Emergency Plan**: Have an emergency plan in place, including knowing which hospitals are best equipped to handle severe allergic reactions and who your key contacts are during an emergency.  6. **Education**: Educate those around you about the severity of your allergy so they know what to do if a reaction occurs.  If you ever feel unwell or think you're having an allergic reaction, seek medical attention immediately. Safety is paramount!>>  \""
      ]
     },
     "execution_count": 9,
     "metadata": {},
     "output_type": "execute_result"
    }
   ],
   "source": [
    "def retrieve_chat(query:str) -> str:\n",
    "    res_db = collection.query(query_texts=[query])[\"documents\"][0][0:10]\n",
    "    history = ' '.join(res_db).replace(\"\\n\", \" \")\n",
    "    return history\n",
    "\n",
    "tool_retrieve_chat = {'type':'function', 'function':{\n",
    "  'name': 'retrieve_chat',\n",
    "  'description': 'When you knowledge is NOT enough to answer the user, you can use this tool to retrieve chats history.',\n",
    "  'parameters': {'type': 'object', \n",
    "                 'required': ['query'],\n",
    "                 'properties': {\n",
    "                    'query': {'type':'str', 'description':'Input the user question or the topic of the current chat'},\n",
    "}}}}\n",
    "## test\n",
    "retrieve_chat(query=\"choco\")"
   ]
  },
  {
   "cell_type": "code",
   "execution_count": 10,
   "id": "531d5da7-d42b-4df0-a36d-467945f9079c",
   "metadata": {},
   "outputs": [],
   "source": [
    "def final_answer(text:str) -> str:\n",
    "    return text\n",
    "\n",
    "tool_final_answer = {'type':'function', 'function':{\n",
    "  'name': 'final_answer',\n",
    "  'description': 'Returns a natural language response to the user',\n",
    "  'parameters': {'type': 'object', \n",
    "                 'required': ['text'],\n",
    "                 'properties': {'text': {'type':'str', 'description':'natural language response'}}\n",
    "}}}"
   ]
  },
  {
   "cell_type": "code",
   "execution_count": 11,
   "id": "742bce9e-84c8-4225-86ec-8a763d55f599",
   "metadata": {},
   "outputs": [],
   "source": [
    "dic_tools = {'retrieve_chat':retrieve_chat, 'final_answer':final_answer}"
   ]
  },
  {
   "cell_type": "markdown",
   "id": "9af647ed-d360-4d80-b695-62c7baf46e4d",
   "metadata": {},
   "source": [
    "### 4 - Run Agent with Memory"
   ]
  },
  {
   "cell_type": "code",
   "execution_count": 13,
   "id": "f1b25752-0d75-471b-bee8-1f2b881ca762",
   "metadata": {},
   "outputs": [],
   "source": [
    "# Utils\n",
    "def use_tool(agent_res:dict, dic_tools:dict) -> dict:\n",
    "    ## use tool\n",
    "    if agent_res[\"message\"].tool_calls is not None:\n",
    "        for tool in agent_res[\"message\"].tool_calls:\n",
    "            t_name, t_inputs = tool[\"function\"][\"name\"], tool[\"function\"][\"arguments\"]\n",
    "            if f := dic_tools.get(t_name):\n",
    "                ### calling tool\n",
    "                print('🔧 >', f\"\\x1b[1;31m{t_name} -> Inputs: {t_inputs}\\x1b[0m\")\n",
    "                ### tool output\n",
    "                t_output = f(**tool[\"function\"][\"arguments\"])\n",
    "                print(t_output)\n",
    "                ### final res\n",
    "                res = t_output\n",
    "            else:\n",
    "                print('🤬 >', f\"\\x1b[1;31m{t_name} -> NotFound\\x1b[0m\")      \n",
    "    ## don't use tool\n",
    "    else:\n",
    "        res = agent_res[\"message\"].content\n",
    "        t_name, t_inputs = '', ''\n",
    "    return {'res':res, 'tool_used':t_name, 'inputs_used':t_inputs}"
   ]
  },
  {
   "cell_type": "code",
   "execution_count": 14,
   "id": "a0509085-abb7-40ba-92fd-b3055c60c66b",
   "metadata": {},
   "outputs": [],
   "source": [
    "def run_agent(llm, messages, available_tools):\n",
    "    ## use tools until final answer\n",
    "    tool_used, local_memory = '', ''\n",
    "    while tool_used != 'final_answer':\n",
    "        ### use tool\n",
    "        try:\n",
    "            agent_res = ollama.chat(model=llm, messages=messages, tools=[v for v in available_tools.values()])\n",
    "            dic_res = use_tool(agent_res, dic_tools)\n",
    "            res, tool_used, inputs_used = dic_res[\"res\"], dic_res[\"tool_used\"], dic_res[\"inputs_used\"]\n",
    "        ### error\n",
    "        except Exception as e:\n",
    "            print(\"⚠️ >\", e)\n",
    "            res = f\"I tried to use {tool_used} but didn't work. I will try something else.\"\n",
    "            print(\"👽 >\", f\"\\x1b[1;30m{res}\\x1b[0m\")\n",
    "            messages.append( {\"role\":\"assistant\", \"content\":res} )       \n",
    "        ### update memory\n",
    "        if tool_used not in ['','final_answer']:\n",
    "            local_memory += f\"\\n{res}\"\n",
    "            messages.append( {\"role\":\"assistant\", \"content\":local_memory} )\n",
    "            available_tools.pop(tool_used)\n",
    "            if len(available_tools) == 1:\n",
    "                messages.append( {\"role\":\"user\", \"content\":\"now activate the tool final_answer.\"} ) \n",
    "        ### tools not used\n",
    "        if tool_used == '':\n",
    "            break\n",
    "    return res"
   ]
  },
  {
   "cell_type": "code",
   "execution_count": 18,
   "id": "0616cfb5-31c5-4b63-99f1-16bf67665681",
   "metadata": {},
   "outputs": [
    {
     "name": "stdin",
     "output_type": "stream",
     "text": [
      "🙂 > hi\n"
     ]
    },
    {
     "name": "stdout",
     "output_type": "stream",
     "text": [
      "👽 > \u001b[1;30mHello! How can I assist you today?\u001b[0m\n"
     ]
    },
    {
     "name": "stdin",
     "output_type": "stream",
     "text": [
      "🙂 > i want to eat the famous Vienna sacher torte. Give me the recipe\n"
     ]
    },
    {
     "name": "stderr",
     "output_type": "stream",
     "text": [
      "Number of requested results 10 is greater than number of elements in index 1, updating n_results = 1\n"
     ]
    },
    {
     "name": "stdout",
     "output_type": "stream",
     "text": [
      "🔧 > \u001b[1;31mretrieve_chat -> Inputs: {'query': 'recipe for sacher torte'}\u001b[0m\n",
      "system: <<You are an intelligent assistant, provide the best possible answer to user's request.>>  user: <<hi>>  assistant: <<Hello! How can I assist you today?>>  user: <<i must tell you that im highly allergic to chocolate. i could die>>  assistant: <<I'm really sorry to hear that. It's important to take this allergy very seriously. Here are some steps you should consider:  1. **Inform Your Healthcare Provider**: Make sure your doctor and any healthcare professionals who might be involved in treating you are aware of your severe chocolate allergy.  2. **Carry Medication**: Always carry an epinephrine auto-injector (like an EpiPen) if prescribed by a doctor, and know how to use it.  3. **Avoid Triggers**: Be vigilant about avoiding any products that contain chocolate or cocoa.  4. **Read Labels Carefully**: Even items you think wouldn’t have chocolate can sometimes contain traces due to cross-contamination.  5. **Emergency Plan**: Have an emergency plan in place, including knowing which hospitals are best equipped to handle severe allergic reactions and who your key contacts are during an emergency.  6. **Education**: Educate those around you about the severity of your allergy so they know what to do if a reaction occurs.  If you ever feel unwell or think you're having an allergic reaction, seek medical attention immediately. Safety is paramount!>>  \n",
      "🔧 > \u001b[1;31mfinal_answer -> Inputs: {'text': \"While I understand your interest in the recipe for the famous Vienna Sacher Torte, it's important to note that this dessert contains chocolate and may not be safe for someone with a severe chocolate allergy. If you're looking for an alternative, there are many other delicious treats available! However, if you are indeed interested in the traditional recipe despite your allergy, I can provide information on how to modify it to avoid chocolate.\"}\u001b[0m\n",
      "While I understand your interest in the recipe for the famous Vienna Sacher Torte, it's important to note that this dessert contains chocolate and may not be safe for someone with a severe chocolate allergy. If you're looking for an alternative, there are many other delicious treats available! However, if you are indeed interested in the traditional recipe despite your allergy, I can provide information on how to modify it to avoid chocolate.\n",
      "👽 > \u001b[1;30mWhile I understand your interest in the recipe for the famous Vienna Sacher Torte, it's important to note that this dessert contains chocolate and may not be safe for someone with a severe chocolate allergy. If you're looking for an alternative, there are many other delicious treats available! However, if you are indeed interested in the traditional recipe despite your allergy, I can provide information on how to modify it to avoid chocolate.\u001b[0m\n"
     ]
    },
    {
     "name": "stdin",
     "output_type": "stream",
     "text": [
      "🙂 > oh right, thank you. then invent a version of it without chocolate\n"
     ]
    },
    {
     "name": "stdout",
     "output_type": "stream",
     "text": [
      "🔧 > \u001b[1;31mfinal_answer -> Inputs: {'text': 'Here’s a recipe for an allergy-friendly version of the Sacher Torte: Use a light sponge cake base and serve it with a rich apricot filling. The ingredients include 200g unsalted butter, 175g granulated sugar, 4 large eggs, 1 tsp vanilla extract, pinch of salt for the sponge cake; and 300g dried apricots, 125ml water, 50g unsalted butter, 1 tsp lemon zest, 3 tbsp cornstarch for the filling. Follow the instructions to create a delightful treat.'}\u001b[0m\n",
      "Here’s a recipe for an allergy-friendly version of the Sacher Torte: Use a light sponge cake base and serve it with a rich apricot filling. The ingredients include 200g unsalted butter, 175g granulated sugar, 4 large eggs, 1 tsp vanilla extract, pinch of salt for the sponge cake; and 300g dried apricots, 125ml water, 50g unsalted butter, 1 tsp lemon zest, 3 tbsp cornstarch for the filling. Follow the instructions to create a delightful treat.\n",
      "👽 > \u001b[1;30mHere’s a recipe for an allergy-friendly version of the Sacher Torte: Use a light sponge cake base and serve it with a rich apricot filling. The ingredients include 200g unsalted butter, 175g granulated sugar, 4 large eggs, 1 tsp vanilla extract, pinch of salt for the sponge cake; and 300g dried apricots, 125ml water, 50g unsalted butter, 1 tsp lemon zest, 3 tbsp cornstarch for the filling. Follow the instructions to create a delightful treat.\u001b[0m\n"
     ]
    },
    {
     "name": "stdin",
     "output_type": "stream",
     "text": [
      "🙂 > quit\n"
     ]
    },
    {
     "name": "stdout",
     "output_type": "stream",
     "text": [
      "--- Saving ---\n",
      "--- Chat num 2 saved --- \n",
      "\n",
      "{'tags': 'sugar, eggs, apricot', 'date': '2025-06-25', 'time': '21:06'} \n",
      "\n",
      "system: <<\n",
      "You are an intelligent assistant, provide the best possible answer to user's request.\n",
      "You must return natural language response.\n",
      "When the user gives a task, first use the tool 'retrieve_chat' to retrieve older information.  \n",
      ">>\n",
      "\n",
      "user: <<hi>>\n",
      "\n",
      "assistant: <<Hello! How can I assist you today?>>\n",
      "\n",
      "user: <<i want to eat the famous Vienna sacher torte. Give me the recipe>>\n",
      "\n",
      "assistant: <<\n",
      "system: <<You are an intelligent assistant, provide the best possible answer to user's request.>>  user: <<hi>>  assistant: <<Hello! How can I assist you today?>>  user: <<i must tell you that im highly allergic to chocolate. i could die>>  assistant: <<I'm really sorry to hear that. It's important to take this allergy very seriously. Here are some steps you should consider:  1. **Inform Your Healthcare Provider**: Make sure your doctor and any healthcare professionals who might be involved in treating you are aware of your severe chocolate allergy.  2. **Carry Medication**: Always carry an epinephrine auto-injector (like an EpiPen) if prescribed by a doctor, and know how to use it.  3. **Avoid Triggers**: Be vigilant about avoiding any products that contain chocolate or cocoa.  4. **Read Labels Carefully**: Even items you think wouldn’t have chocolate can sometimes contain traces due to cross-contamination.  5. **Emergency Plan**: Have an emergency plan in place, including knowing which hospitals are best equipped to handle severe allergic reactions and who your key contacts are during an emergency.  6. **Education**: Educate those around you about the severity of your allergy so they know what to do if a reaction occurs.  If you ever feel unwell or think you're having an allergic reaction, seek medical attention immediately. Safety is paramount!>>  >>\n",
      "\n",
      "user: <<now activate the tool final_answer.>>\n",
      "\n",
      "assistant: <<While I understand your interest in the recipe for the famous Vienna Sacher Torte, it's important to note that this dessert contains chocolate and may not be safe for someone with a severe chocolate allergy. If you're looking for an alternative, there are many other delicious treats available! However, if you are indeed interested in the traditional recipe despite your allergy, I can provide information on how to modify it to avoid chocolate.>>\n",
      "\n",
      "user: <<oh right, thank you. then invent a version of it without chocolate>>\n",
      "\n",
      "assistant: <<Here’s a recipe for an allergy-friendly version of the Sacher Torte: Use a light sponge cake base and serve it with a rich apricot filling. The ingredients include 200g unsalted butter, 175g granulated sugar, 4 large eggs, 1 tsp vanilla extract, pinch of salt for the sponge cake; and 300g dried apricots, 125ml water, 50g unsalted butter, 1 tsp lemon zest, 3 tbsp cornstarch for the filling. Follow the instructions to create a delightful treat.>>\n",
      "\n",
      "\n",
      "------------------------\n"
     ]
    }
   ],
   "source": [
    "prompt = '''\n",
    "You are an intelligent assistant, provide the best possible answer to user's request.\n",
    "You must return natural language response.\n",
    "When the user gives a task, first use the tool 'retrieve_chat' to retrieve older information.  \n",
    "'''\n",
    "messages = [{\"role\":\"system\", \"content\":prompt}]\n",
    "\n",
    "while True:\n",
    "    ## User\n",
    "    q = input('🙂 >')\n",
    "    if q == \"quit\":\n",
    "        ### save chat before quitting\n",
    "        save_chat(lst_msg=messages, collection=collection)\n",
    "        break\n",
    "    messages.append( {\"role\":\"user\", \"content\":q} )\n",
    "   \n",
    "    ## Model\n",
    "    available_tools = {\"retrieve_chat\":tool_retrieve_chat, \"final_answer\":tool_final_answer}\n",
    "    res = run_agent(llm, messages, available_tools)\n",
    "   \n",
    "    ## Response\n",
    "    print(\"👽 >\", f\"\\x1b[1;30m{res}\\x1b[0m\")\n",
    "    messages.append( {\"role\":\"assistant\", \"content\":res} )"
   ]
  },
  {
   "cell_type": "code",
   "execution_count": 19,
   "id": "6b0655ba-a5df-41a4-9067-7e04a7aa65e0",
   "metadata": {},
   "outputs": [
    {
     "data": {
      "text/plain": [
       "[{'role': 'system',\n",
       "  'content': \"\\nYou are an intelligent assistant, provide the best possible answer to user's request.\\nYou must return natural language response.\\nWhen the user gives a task, first use the tool 'retrieve_chat' to retrieve older information.  \\n\"},\n",
       " {'role': 'user', 'content': 'hi'},\n",
       " {'role': 'assistant', 'content': 'Hello! How can I assist you today?'},\n",
       " {'role': 'user',\n",
       "  'content': 'i want to eat the famous Vienna sacher torte. Give me the recipe'},\n",
       " {'role': 'assistant',\n",
       "  'content': \"\\nsystem: <<You are an intelligent assistant, provide the best possible answer to user's request.>>  user: <<hi>>  assistant: <<Hello! How can I assist you today?>>  user: <<i must tell you that im highly allergic to chocolate. i could die>>  assistant: <<I'm really sorry to hear that. It's important to take this allergy very seriously. Here are some steps you should consider:  1. **Inform Your Healthcare Provider**: Make sure your doctor and any healthcare professionals who might be involved in treating you are aware of your severe chocolate allergy.  2. **Carry Medication**: Always carry an epinephrine auto-injector (like an EpiPen) if prescribed by a doctor, and know how to use it.  3. **Avoid Triggers**: Be vigilant about avoiding any products that contain chocolate or cocoa.  4. **Read Labels Carefully**: Even items you think wouldn’t have chocolate can sometimes contain traces due to cross-contamination.  5. **Emergency Plan**: Have an emergency plan in place, including knowing which hospitals are best equipped to handle severe allergic reactions and who your key contacts are during an emergency.  6. **Education**: Educate those around you about the severity of your allergy so they know what to do if a reaction occurs.  If you ever feel unwell or think you're having an allergic reaction, seek medical attention immediately. Safety is paramount!>>  \"},\n",
       " {'role': 'user', 'content': 'now activate the tool final_answer.'},\n",
       " {'role': 'assistant',\n",
       "  'content': \"While I understand your interest in the recipe for the famous Vienna Sacher Torte, it's important to note that this dessert contains chocolate and may not be safe for someone with a severe chocolate allergy. If you're looking for an alternative, there are many other delicious treats available! However, if you are indeed interested in the traditional recipe despite your allergy, I can provide information on how to modify it to avoid chocolate.\"},\n",
       " {'role': 'user',\n",
       "  'content': 'oh right, thank you. then invent a version of it without chocolate'},\n",
       " {'role': 'assistant',\n",
       "  'content': 'Here’s a recipe for an allergy-friendly version of the Sacher Torte: Use a light sponge cake base and serve it with a rich apricot filling. The ingredients include 200g unsalted butter, 175g granulated sugar, 4 large eggs, 1 tsp vanilla extract, pinch of salt for the sponge cake; and 300g dried apricots, 125ml water, 50g unsalted butter, 1 tsp lemon zest, 3 tbsp cornstarch for the filling. Follow the instructions to create a delightful treat.'}]"
      ]
     },
     "execution_count": 19,
     "metadata": {},
     "output_type": "execute_result"
    }
   ],
   "source": [
    "messages"
   ]
  }
 ],
 "metadata": {
  "kernelspec": {
   "display_name": "Python 3 (ipykernel)",
   "language": "python",
   "name": "python3"
  },
  "language_info": {
   "codemirror_mode": {
    "name": "ipython",
    "version": 3
   },
   "file_extension": ".py",
   "mimetype": "text/x-python",
   "name": "python",
   "nbconvert_exporter": "python",
   "pygments_lexer": "ipython3",
   "version": "3.8.19"
  }
 },
 "nbformat": 4,
 "nbformat_minor": 5
}
