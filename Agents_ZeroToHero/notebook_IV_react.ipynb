{
 "cells": [
  {
   "cell_type": "markdown",
   "id": "71590195-26e8-4a46-b5db-2711a0ba60eb",
   "metadata": {},
   "source": [
    "# GenAI with Python: AI Agents from Zero to Hero"
   ]
  },
  {
   "cell_type": "markdown",
   "id": "3fe894cc-597f-412d-ae45-22f41fde27d3",
   "metadata": {},
   "source": [
    "###### [Read the Article on TDS]()"
   ]
  },
  {
   "cell_type": "markdown",
   "id": "6350285e-3ef5-419f-9097-002d29055f97",
   "metadata": {},
   "source": [
    "## 0 - Setup"
   ]
  },
  {
   "cell_type": "code",
   "execution_count": 1,
   "id": "4af83654-f402-4f13-8169-cb337574df70",
   "metadata": {},
   "outputs": [],
   "source": [
    "#pip install ollama==0.4.7\n",
    "import ollama\n",
    "llm = \"qwen2.5\""
   ]
  },
  {
   "cell_type": "code",
   "execution_count": 2,
   "id": "6a97c3d7-7ca0-4076-9d7d-0ee776433f39",
   "metadata": {},
   "outputs": [
    {
     "name": "stdout",
     "output_type": "stream",
     "text": [
      "I can provide guidance and information on how to train a machine learning model, but I don't have the capability to directly train models myself. However, I can certainly help you with:\n",
      "\n",
      "1. **Choosing an appropriate algorithm** for your specific problem.\n",
      "2. **Data preparation**—cleaning data, handling missing values, normalizing features, etc.\n",
      "3. **Feature selection and engineering**—choosing relevant features and creating new ones if necessary.\n",
      "4. **Model training**—using libraries like scikit-learn, TensorFlow, or PyTorch to train models.\n",
      "5. **Hyperparameter tuning**—optimizing model parameters for better performance.\n",
      "6. **Validation and testing**—ensuring your model generalizes well to unseen data.\n",
      "7. **Deployment**—suggestions on how to deploy the trained model in a production environment.\n",
      "\n",
      "If you have specific questions about any of these steps or need help with code, feel free to ask!"
     ]
    }
   ],
   "source": [
    "stream = ollama.generate(model=llm, prompt='''can you train a machine learning model?''', stream=True)\n",
    "for chunk in stream:\n",
    "    print(chunk['response'], end='', flush=True)"
   ]
  },
  {
   "cell_type": "markdown",
   "id": "687d778c-514a-4ba5-8540-74b62e5610ba",
   "metadata": {},
   "source": [
    "## 1 - DataScience Team"
   ]
  },
  {
   "cell_type": "markdown",
   "id": "e71e8766-e9c7-4119-8104-3e6ac8a0ec46",
   "metadata": {},
   "source": [
    "### 1.1. SQL Agent"
   ]
  },
  {
   "cell_type": "markdown",
   "id": "46b2f585-ab8d-4bfc-82a5-62001fd2fbc1",
   "metadata": {},
   "source": [
    "###### Tools"
   ]
  },
  {
   "cell_type": "code",
   "execution_count": 41,
   "id": "e623624d-b993-413e-8494-997a17b2517e",
   "metadata": {},
   "outputs": [],
   "source": [
    "# Create DB\n",
    "from langchain_community.utilities.sql_database import SQLDatabase\n",
    "\n",
    "db = SQLDatabase.from_uri(\"sqlite:///database.db\")"
   ]
  },
  {
   "cell_type": "code",
   "execution_count": 42,
   "id": "094dc16a-6374-4ebd-ab0f-fb31474fcd89",
   "metadata": {},
   "outputs": [],
   "source": [
    "# SQL Tools\n",
    "from langchain_community.tools.sql_database.tool import ListSQLDatabaseTool, InfoSQLDatabaseTool, QuerySQLDataBaseTool\n",
    "\n",
    "## Tables\n",
    "def get_tables() -> str:\n",
    "    return ListSQLDatabaseTool(db=db).invoke(\"\")\n",
    "\n",
    "tool_get_tables = {'type':'function', 'function':{\n",
    "  'name': 'get_tables',\n",
    "  'description': 'Returns the name of the tables in the database.',\n",
    "  'parameters': {'type': 'object', \n",
    "                 'required': [],\n",
    "                 'properties': {}\n",
    "}}}\n",
    "\n",
    "## Columns\n",
    "def get_columns(tables: str) -> str:\n",
    "    tool = InfoSQLDatabaseTool(db=db)\n",
    "    return tool.invoke(tables)\n",
    "\n",
    "tool_get_columns = {'type':'function', 'function':{\n",
    "  'name': 'get_columns',\n",
    "  'description': 'Returns the name of the columns in the table.',\n",
    "  'parameters': {'type': 'object', \n",
    "                 'required': ['tables'],\n",
    "                 'properties': {'tables': {'type':'str', 'description':'table name. Example Input: table1, table2, table3'}}\n",
    "}}}\n",
    "\n",
    "## SQL\n",
    "def sql_check(sql: str) -> str:\n",
    "    p = f'''Double check if the SQL query is correct: {sql}. You MUST just SQL code without comments'''\n",
    "    res = ollama.generate(model=llm, prompt=p)[\"response\"]\n",
    "    return res.replace('sql','').replace('```','').replace('\\n',' ').strip()\n",
    "\n",
    "tool_sql_check = {'type':'function', 'function':{\n",
    "  'name': 'sql_check',\n",
    "  'description': 'Before executing a query, always review the SQL query and correct the code if necessary',\n",
    "  'parameters': {'type': 'object', \n",
    "                 'required': ['sql'],\n",
    "                 'properties': {'sql': {'type':'str', 'description':'SQL code'}}\n",
    "}}}\n",
    "\n",
    "## Query\n",
    "def sql_exec(sql: str) -> str:\n",
    "    return QuerySQLDataBaseTool(db=db).invoke(sql)\n",
    "    \n",
    "tool_sql_exec = {'type':'function', 'function':{\n",
    "  'name': 'sql_exec',\n",
    "  'description': 'Execute a SQL query',\n",
    "  'parameters': {'type': 'object', \n",
    "                 'required': ['sql'],\n",
    "                 'properties': {'sql': {'type':'str', 'description':'SQL code'}}\n",
    "}}}"
   ]
  },
  {
   "cell_type": "code",
   "execution_count": 43,
   "id": "d4e24891-a20b-460c-9d43-ab69522d9c72",
   "metadata": {},
   "outputs": [
    {
     "data": {
      "text/plain": [
       "'hi'"
      ]
     },
     "execution_count": 43,
     "metadata": {},
     "output_type": "execute_result"
    }
   ],
   "source": [
    "# Final Answer as a Tool\n",
    "def final_answer(text:str) -> str:\n",
    "    return text\n",
    "\n",
    "tool_final_answer = {'type':'function', 'function':{\n",
    "  'name': 'final_answer',\n",
    "  'description': 'Returns a natural language response to the user',\n",
    "  'parameters': {'type': 'object', \n",
    "                 'required': ['text'],\n",
    "                 'properties': {'text': {'type':'str', 'description':'natural language response'}}\n",
    "}}}\n",
    "\n",
    "final_answer(text=\"hi\")"
   ]
  },
  {
   "cell_type": "code",
   "execution_count": 44,
   "id": "6e2a21b0-adf8-4669-858c-84533a2c7200",
   "metadata": {},
   "outputs": [],
   "source": [
    "dic_tools = {'final_answer':final_answer,\n",
    "             'get_tables':get_tables, \n",
    "             'get_columns':get_columns,\n",
    "             'sql_check':sql_check,\n",
    "             'sql_exec':sql_exec}"
   ]
  },
  {
   "cell_type": "markdown",
   "id": "7b090d69-42ef-4d56-a238-b3fe4ed604d5",
   "metadata": {},
   "source": [
    "###### Prompt"
   ]
  },
  {
   "cell_type": "code",
   "execution_count": 45,
   "id": "d20c8dba-f639-4e60-9f2b-031b174f4fc8",
   "metadata": {},
   "outputs": [],
   "source": [
    "prompt_sql = '''\n",
    "You are an expert Data Engineer, retrieve data from the database using SQL.\n",
    "You have access to the following tools:\n",
    "- tool 'final_answer' to return a text response.\n",
    "- tool 'get_tables' to find the tables in the database.\n",
    "- tool 'get_columns' to find the columns in the table.\n",
    "- tool 'sql_check' to double check the SQL query.\n",
    "- tool 'sql_exec' to execute the SQL query and save the results.\n",
    "\n",
    "\n",
    "\n",
    "'''"
   ]
  },
  {
   "cell_type": "markdown",
   "id": "cd97539c-6bdb-4738-91c1-2736cd01ccdf",
   "metadata": {},
   "source": [
    "###### Utils"
   ]
  },
  {
   "cell_type": "code",
   "execution_count": 46,
   "id": "b1482636-27d0-42a0-8200-14981c17c4fe",
   "metadata": {},
   "outputs": [],
   "source": [
    "import re\n",
    "\n",
    "def utils_save_data(table: str, data: str, file: str) -> str:\n",
    "    str_cols = get_columns(table)\n",
    "    lst_cols = re.findall(r'\"([^\"]+)\"\\s+\\w+', str_cols)\n",
    "    df = pd.DataFrame(data=eval(data), columns=lst_cols)\n",
    "    print(df.head())\n",
    "    df.to_csv(file_name, sep=',', na_rep='', index=False)\n",
    "    return f\"Data are saved as '{file}'\""
   ]
  },
  {
   "cell_type": "code",
   "execution_count": 47,
   "id": "0f8f027b-b06e-4829-bca5-68b7e483739b",
   "metadata": {},
   "outputs": [],
   "source": [
    "def use_tool(agent_res:dict, dic_tools:dict) -> dict:\n",
    "    ## use tool\n",
    "    if \"tool_calls\" in agent_res[\"message\"].keys():\n",
    "        for tool in agent_res[\"message\"][\"tool_calls\"]:\n",
    "            t_name, t_inputs = tool[\"function\"][\"name\"], tool[\"function\"][\"arguments\"]\n",
    "            if f := dic_tools.get(t_name):\n",
    "                ### calling tool\n",
    "                print('🔧 >', f\"\\x1b[1;31m{t_name} -> Inputs: {t_inputs}\\x1b[0m\")\n",
    "                ### tool output\n",
    "                t_output = f(**tool[\"function\"][\"arguments\"])\n",
    "                print(t_output)\n",
    "                ### final res\n",
    "                res = t_output\n",
    "            else:\n",
    "                print('🤬 >', f\"\\x1b[1;31m{t_name} -> NotFound\\x1b[0m\")\n",
    "    ## don't use tool\n",
    "    if agent_res['message']['content'] != '':\n",
    "        res = agent_res[\"message\"][\"content\"]\n",
    "        t_name, t_inputs = '', ''\n",
    "    return {'res':res, 'tool_used':t_name, 'inputs_used':t_inputs}"
   ]
  },
  {
   "cell_type": "code",
   "execution_count": 48,
   "id": "34938fd2-9e07-4caa-8620-50091a500c31",
   "metadata": {},
   "outputs": [],
   "source": [
    "def run_agent(llm, messages, available_tools):\n",
    "    tool_used, local_memory = '', ''\n",
    "    while tool_used != 'final_answer':\n",
    "        ### use tools\n",
    "        try:\n",
    "            agent_res = ollama.chat(model=llm, \n",
    "                                    messages=messages,\n",
    "                                    #format=\"json\", #or schema\n",
    "                                    #stream=False,\n",
    "                                    #options={\"num_ctx\":2048},\n",
    "                                    tools=[v for v in available_tools.values()])\n",
    "            dic_res = use_tool(agent_res, dic_tools)\n",
    "            res, tool_used, inputs_used = dic_res[\"res\"], dic_res[\"tool_used\"], dic_res[\"inputs_used\"]\n",
    "        ### error\n",
    "        except Exception as e:\n",
    "            print(\"⚠️ >\", e)\n",
    "            res = f\"I tried to use {tool_used} but didn't work. I will try something else.\"\n",
    "            print(\"👽 >\", f\"\\x1b[1;30m{res}\\x1b[0m\")\n",
    "            messages.append( {\"role\":\"assistant\", \"content\":res} )\n",
    "        ### update memory\n",
    "        if tool_used not in ['','final_answer']:\n",
    "            local_memory += f\"\\nTool used: {tool_used}.\\nInput used: {inputs_used}.\\nOutput: {res}\"\n",
    "            messages.append( {\"role\":\"assistant\", \"content\":local_memory} )\n",
    "            available_tools.pop(tool_used)\n",
    "            if len(available_tools) == 1:\n",
    "                messages.append( {\"role\":\"user\", \"content\":\"now activate the tool final_answer.\"} )\n",
    "        ### tools not used\n",
    "        if tool_used == '':\n",
    "            break\n",
    "        \n",
    "        ### custom\n",
    "        if tool_used ==  'get_columns':\n",
    "            table = inputs_used\n",
    "        if tool_used == 'sql_exec':\n",
    "            utils_save_data(table=table, data=res, file=\"data.csv\")\n",
    "            \n",
    "    return res"
   ]
  },
  {
   "cell_type": "markdown",
   "id": "496857e8-2c4f-4b8b-a4c4-67af89759b67",
   "metadata": {},
   "source": [
    "###### Start a chat"
   ]
  },
  {
   "cell_type": "code",
   "execution_count": 49,
   "id": "dc24bfd4-a874-4800-a881-7cfbb39a8564",
   "metadata": {},
   "outputs": [
    {
     "name": "stdin",
     "output_type": "stream",
     "text": [
      "🙂 > extract all the males above 18 years old\n"
     ]
    },
    {
     "name": "stdout",
     "output_type": "stream",
     "text": [
      "🔧 > \u001b[1;31mget_tables -> Inputs: {}\u001b[0m\n",
      "titanic\n",
      "🔧 > \u001b[1;31mget_columns -> Inputs: {'tables': 'titanic'}\u001b[0m\n",
      "\n",
      "CREATE TABLE titanic (\n",
      "\t\"PassengerId\" INTEGER, \n",
      "\t\"Survived\" INTEGER, \n",
      "\t\"Pclass\" INTEGER, \n",
      "\t\"Name\" TEXT, \n",
      "\t\"Sex\" TEXT, \n",
      "\t\"Age\" REAL, \n",
      "\t\"SibSp\" INTEGER, \n",
      "\t\"Parch\" INTEGER, \n",
      "\t\"Ticket\" TEXT, \n",
      "\t\"Fare\" REAL, \n",
      "\t\"Cabin\" TEXT, \n",
      "\t\"Embarked\" TEXT\n",
      ")\n",
      "\n",
      "/*\n",
      "3 rows from titanic table:\n",
      "PassengerId\tSurvived\tPclass\tName\tSex\tAge\tSibSp\tParch\tTicket\tFare\tCabin\tEmbarked\n",
      "1\t0\t3\tBraund, Mr. Owen Harris\tmale\t22.0\t1\t0\tA/5 21171\t7.25\tNone\tS\n",
      "2\t1\t1\tCumings, Mrs. John Bradley (Florence Briggs Thayer)\tfemale\t38.0\t1\t0\tPC 17599\t71.2833\tC85\tC\n",
      "3\t1\t3\tHeikkinen, Miss. Laina\tfemale\t26.0\t0\t0\tSTON/O2. 3101282\t7.925\tNone\tS\n",
      "*/\n",
      "⚠️ > cannot access local variable 'res' where it is not associated with a value\n",
      "👽 > \u001b[1;30mI tried to use get_columns but didn't work. I will try something else.\u001b[0m\n"
     ]
    },
    {
     "ename": "KeyError",
     "evalue": "'get_columns'",
     "output_type": "error",
     "traceback": [
      "\u001b[0;31m---------------------------------------------------------------------------\u001b[0m",
      "\u001b[0;31mKeyError\u001b[0m                                  Traceback (most recent call last)",
      "Cell \u001b[0;32mIn[49], line 22\u001b[0m\n\u001b[1;32m     16\u001b[0m \u001b[38;5;66;03m## Memory\u001b[39;00m\n\u001b[1;32m     17\u001b[0m \u001b[38;5;66;03m#messages.append( {\"role\":\"user\", \"content\":memory} )      \u001b[39;00m\n\u001b[1;32m     18\u001b[0m \n\u001b[1;32m     19\u001b[0m \u001b[38;5;66;03m## Model\u001b[39;00m\n\u001b[1;32m     20\u001b[0m available_tools \u001b[38;5;241m=\u001b[39m {\u001b[38;5;124m\"\u001b[39m\u001b[38;5;124mfinal_answer\u001b[39m\u001b[38;5;124m\"\u001b[39m:tool_final_answer, \u001b[38;5;124m\"\u001b[39m\u001b[38;5;124mget_tables\u001b[39m\u001b[38;5;124m\"\u001b[39m:tool_get_tables, \u001b[38;5;124m\"\u001b[39m\u001b[38;5;124mget_columns\u001b[39m\u001b[38;5;124m\"\u001b[39m:tool_get_columns,\n\u001b[1;32m     21\u001b[0m                    \u001b[38;5;124m\"\u001b[39m\u001b[38;5;124msql_check\u001b[39m\u001b[38;5;124m\"\u001b[39m:tool_sql_check, \u001b[38;5;124m\"\u001b[39m\u001b[38;5;124msql_exec\u001b[39m\u001b[38;5;124m\"\u001b[39m:tool_sql_exec}\n\u001b[0;32m---> 22\u001b[0m res \u001b[38;5;241m=\u001b[39m run_agent(llm, messages, available_tools)\n\u001b[1;32m     24\u001b[0m \u001b[38;5;66;03m## Response\u001b[39;00m\n\u001b[1;32m     25\u001b[0m \u001b[38;5;28mprint\u001b[39m(\u001b[38;5;124m\"\u001b[39m\u001b[38;5;124m👽 >\u001b[39m\u001b[38;5;124m\"\u001b[39m, \u001b[38;5;124mf\u001b[39m\u001b[38;5;124m\"\u001b[39m\u001b[38;5;130;01m\\x1b\u001b[39;00m\u001b[38;5;124m[1;30m\u001b[39m\u001b[38;5;132;01m{\u001b[39;00mres\u001b[38;5;132;01m}\u001b[39;00m\u001b[38;5;130;01m\\x1b\u001b[39;00m\u001b[38;5;124m[0m\u001b[39m\u001b[38;5;124m\"\u001b[39m)\n",
      "Cell \u001b[0;32mIn[48], line 24\u001b[0m, in \u001b[0;36mrun_agent\u001b[0;34m(llm, messages, available_tools)\u001b[0m\n\u001b[1;32m     22\u001b[0m local_memory \u001b[38;5;241m+\u001b[39m\u001b[38;5;241m=\u001b[39m \u001b[38;5;124mf\u001b[39m\u001b[38;5;124m\"\u001b[39m\u001b[38;5;130;01m\\n\u001b[39;00m\u001b[38;5;124mTool used: \u001b[39m\u001b[38;5;132;01m{\u001b[39;00mtool_used\u001b[38;5;132;01m}\u001b[39;00m\u001b[38;5;124m.\u001b[39m\u001b[38;5;130;01m\\n\u001b[39;00m\u001b[38;5;124mInput used: \u001b[39m\u001b[38;5;132;01m{\u001b[39;00minputs_used\u001b[38;5;132;01m}\u001b[39;00m\u001b[38;5;124m.\u001b[39m\u001b[38;5;130;01m\\n\u001b[39;00m\u001b[38;5;124mOutput: \u001b[39m\u001b[38;5;132;01m{\u001b[39;00mres\u001b[38;5;132;01m}\u001b[39;00m\u001b[38;5;124m\"\u001b[39m\n\u001b[1;32m     23\u001b[0m messages\u001b[38;5;241m.\u001b[39mappend( {\u001b[38;5;124m\"\u001b[39m\u001b[38;5;124mrole\u001b[39m\u001b[38;5;124m\"\u001b[39m:\u001b[38;5;124m\"\u001b[39m\u001b[38;5;124massistant\u001b[39m\u001b[38;5;124m\"\u001b[39m, \u001b[38;5;124m\"\u001b[39m\u001b[38;5;124mcontent\u001b[39m\u001b[38;5;124m\"\u001b[39m:local_memory} )\n\u001b[0;32m---> 24\u001b[0m available_tools\u001b[38;5;241m.\u001b[39mpop(tool_used)\n\u001b[1;32m     25\u001b[0m \u001b[38;5;28;01mif\u001b[39;00m \u001b[38;5;28mlen\u001b[39m(available_tools) \u001b[38;5;241m==\u001b[39m \u001b[38;5;241m1\u001b[39m:\n\u001b[1;32m     26\u001b[0m     messages\u001b[38;5;241m.\u001b[39mappend( {\u001b[38;5;124m\"\u001b[39m\u001b[38;5;124mrole\u001b[39m\u001b[38;5;124m\"\u001b[39m:\u001b[38;5;124m\"\u001b[39m\u001b[38;5;124muser\u001b[39m\u001b[38;5;124m\"\u001b[39m, \u001b[38;5;124m\"\u001b[39m\u001b[38;5;124mcontent\u001b[39m\u001b[38;5;124m\"\u001b[39m:\u001b[38;5;124m\"\u001b[39m\u001b[38;5;124mnow activate the tool final_answer.\u001b[39m\u001b[38;5;124m\"\u001b[39m} )\n",
      "\u001b[0;31mKeyError\u001b[0m: 'get_columns'"
     ]
    }
   ],
   "source": [
    "messages = [{\"role\":\"system\", \"content\":prompt_sql}]\n",
    "memory = '''\n",
    "To solve the task, you must follow a ReAct cycle of 'THOUGHT', 'ACTION', and 'OBSERVATION'. At each step:\n",
    "1) 'THOUGHT' don't use any tool, just explain your your reasoning towards solving the task and the tools that you want to use.\n",
    "2) If the user agree, you move to 'ACTION' and follow your plan to solve the task. But if the user doesn't agree, try to formulate a new plan.\n",
    "3) 'OBSERVATION' don't use any tool, just comment whatever important information you will use as input for the next step.\n",
    "4) In the end, you have to return a final answer using the 'final_answer' tool.\n",
    "'''\n",
    "while True:\n",
    "    ## User\n",
    "    q = input('🙂 >')\n",
    "    if q == \"quit\":\n",
    "        break\n",
    "    messages.append( {\"role\":\"user\", \"content\":q} )\n",
    "\n",
    "    ## Memory\n",
    "    #messages.append( {\"role\":\"user\", \"content\":memory} )      \n",
    "    \n",
    "    ## Model\n",
    "    available_tools = {\"final_answer\":tool_final_answer, \"get_tables\":tool_get_tables, \"get_columns\":tool_get_columns,\n",
    "                       \"sql_check\":tool_sql_check, \"sql_exec\":tool_sql_exec}\n",
    "    res = run_agent(llm, messages, available_tools)\n",
    "    \n",
    "    ## Response\n",
    "    print(\"👽 >\", f\"\\x1b[1;30m{res}\\x1b[0m\")\n",
    "    messages.append( {\"role\":\"assistant\", \"content\":res} )"
   ]
  },
  {
   "cell_type": "code",
   "execution_count": null,
   "id": "fb8f1f39-4267-48fa-955d-d721977b2c19",
   "metadata": {},
   "outputs": [],
   "source": [
    "messages"
   ]
  },
  {
   "cell_type": "markdown",
   "id": "e984b0b4-a1e0-462f-a5bd-d380575df165",
   "metadata": {
    "jp-MarkdownHeadingCollapsed": true
   },
   "source": [
    "### 1.2. ML Agent"
   ]
  },
  {
   "cell_type": "code",
   "execution_count": null,
   "id": "1ca0c64c-341c-4560-866b-120e1ab4a1dc",
   "metadata": {},
   "outputs": [],
   "source": [
    "import io\n",
    "import contextlib\n",
    "\n",
    "def code_exec(code:str) -> str:\n",
    "    output = io.StringIO()\n",
    "    with contextlib.redirect_stdout(output):\n",
    "        try:\n",
    "            exec(code)\n",
    "        except Exception as e:\n",
    "            print(f\"Error: {e}\")\n",
    "    return output.getvalue()\n",
    "\n",
    "tool_code_exec = {'type':'function', 'function':{\n",
    "  'name': 'code_exec',\n",
    "  'description': 'Execute python code. Use always the function print() to get the output.',\n",
    "  'parameters': {'type': 'object', \n",
    "                 'required': ['code'],\n",
    "                 'properties': {\n",
    "                    'code': {'type':'str', 'description':'code to execute'},\n",
    "}}}}\n",
    "\n",
    "code_exec(\"from datetime import datetime; print(datetime.now().strftime('%H:%M'))\")"
   ]
  },
  {
   "cell_type": "code",
   "execution_count": null,
   "id": "b39df1a1-51c4-4b34-8bc8-4b7c8de1be1b",
   "metadata": {},
   "outputs": [],
   "source": [
    "prompt_py = '''\n",
    "[GOAL] You are an expert Data Analyst, you write Python code to analyze data.\n",
    "You must answer every question from the user, you can use the list of tools provided to you.\n",
    "After you finish your job, use the 'final_answer' tool to answer the user.\n",
    "\n",
    "[RETURN] You must generate and execute Python code to create plots.\n",
    "\n",
    "[WARNINGS] ALWAYS execute the following code exactly as it is: 'df=pd.read_csv(path); print(df.head())'.\n",
    "If you create a plot, ALWAYS add 'plt.show()' at the end.\n",
    "\n",
    "[CONTEXT] Start by loading the data.\n",
    "'''"
   ]
  },
  {
   "cell_type": "markdown",
   "id": "b08cf0cc-e843-4969-97cf-fb6dc2826087",
   "metadata": {},
   "source": [
    "###### ML Agent"
   ]
  },
  {
   "cell_type": "code",
   "execution_count": null,
   "id": "de748241-2db4-419e-bdf0-58afacb8fc3d",
   "metadata": {},
   "outputs": [],
   "source": [
    "def train_model(code:str) -> str:\n",
    "   \n",
    "    return\n",
    "\n",
    "tool_train_model = {'type':'function', 'function':{\n",
    "  'name': 'code_exec',\n",
    "  'description': 'Execute python code. Use always the function print() to get the output.',\n",
    "  'parameters': {'type': 'object', \n",
    "                 'required': ['code'],\n",
    "                 'properties': {\n",
    "                    'code': {'type':'str', 'description':'code to execute'},\n",
    "}}}}\n",
    "\n",
    "train_model(\"from datetime import datetime; print(datetime.now().strftime('%H:%M'))\")"
   ]
  },
  {
   "cell_type": "code",
   "execution_count": null,
   "id": "8e6ab566-6b2a-4bb0-bbfc-5d1d7c9e84c7",
   "metadata": {},
   "outputs": [],
   "source": [
    "def save_model(code:str) -> str:\n",
    "   \n",
    "    return\n",
    "\n",
    "tool_save_model = {'type':'function', 'function':{\n",
    "  'name': 'code_exec',\n",
    "  'description': 'Execute python code. Use always the function print() to get the output.',\n",
    "  'parameters': {'type': 'object', \n",
    "                 'required': ['code'],\n",
    "                 'properties': {\n",
    "                    'code': {'type':'str', 'description':'code to execute'},\n",
    "}}}}\n",
    "\n",
    "save_model(\"from datetime import datetime; print(datetime.now().strftime('%H:%M'))\")"
   ]
  },
  {
   "cell_type": "code",
   "execution_count": null,
   "id": "872a2d17-510a-4239-87cd-6345435cfcc8",
   "metadata": {},
   "outputs": [],
   "source": [
    "prompt_ml = '''\n",
    "[GOAL] You are an expert Data Scientist, you train machine learning models.\n",
    "You must answer every question from the user, you can use the list of tools provided to you.\n",
    "After you finish your job, use the 'final_answer' tool to answer the user.\n",
    "\n",
    "[RETURN] The final output must be a model object saved on the computer.\n",
    "\n",
    "[WARNINGS] \n",
    "\n",
    "[CONTEXT] You must answer every question from the user, you can use the list of tools provided to you.\n",
    "Once you have collected plenty of information to answer the user's question use the 'final_answer' tool.\n",
    "If the user doesn't ask a specific question, you MUST use the 'final_answer' tool directly.\n",
    "'''"
   ]
  },
  {
   "cell_type": "code",
   "execution_count": null,
   "id": "27ca2836-a3a4-4b72-9793-f6914ea3ae1d",
   "metadata": {},
   "outputs": [],
   "source": [
    "dic_tools = {'final_answer':final_answer,\n",
    "             'get_tables':get_tables, \n",
    "             'get_schema':get_schema, \n",
    "             'sql_exec':sql_exec, \n",
    "             'sql_check':sql_check,\n",
    "             'code_exec':code_exec,\n",
    "             'train_model':train_model,\n",
    "             'save_model':save_model}"
   ]
  },
  {
   "cell_type": "markdown",
   "id": "a34b3ce6-936e-4d37-a60f-59b5eb6da1c5",
   "metadata": {},
   "source": [
    "###### Utils functions"
   ]
  },
  {
   "cell_type": "code",
   "execution_count": null,
   "id": "11260068-334a-42e3-8536-653d717ea09c",
   "metadata": {},
   "outputs": [],
   "source": [
    "def use_tool(agent_res:dict, dic_tools:dict) -> dict:\n",
    "    ## use tool\n",
    "    if \"tool_calls\" in agent_res[\"message\"].keys():\n",
    "        for tool in agent_res[\"message\"][\"tool_calls\"]:\n",
    "            t_name, t_inputs = tool[\"function\"][\"name\"], tool[\"function\"][\"arguments\"]\n",
    "            if f := dic_tools.get(t_name):\n",
    "                ### calling tool\n",
    "                print('🔧 >', f\"\\x1b[1;31m{t_name} -> Inputs: {t_inputs}\\x1b[0m\")\n",
    "                ### tool output\n",
    "                t_output = f(**tool[\"function\"][\"arguments\"])\n",
    "                print(t_output)\n",
    "                ### final res\n",
    "                res = t_output\n",
    "            else:\n",
    "                print('🤬 >', f\"\\x1b[1;31m{t_name} -> NotFound\\x1b[0m\")\n",
    "    ## don't use tool\n",
    "    if agent_res['message']['content'] != '':\n",
    "        res = agent_res[\"message\"][\"content\"]\n",
    "        t_name, t_inputs = '', ''\n",
    "    return {'res':res, 'tool_used':t_name, 'inputs_used':t_inputs}"
   ]
  },
  {
   "cell_type": "markdown",
   "id": "c2d2b6ee-370e-4f3a-80b3-a01bc8e6060d",
   "metadata": {},
   "source": [
    "###### Workflow"
   ]
  },
  {
   "cell_type": "code",
   "execution_count": null,
   "id": "ea6ade59-1f36-41e5-9649-542b5df2c249",
   "metadata": {},
   "outputs": [],
   "source": [
    "messages_sql = [{\"role\":\"system\", \"content\":prompt_sql}]\n",
    "messages_py  = [{\"role\":\"system\", \"content\":prompt_py}]\n",
    "messages_ml  = [{\"role\":\"system\", \"content\":prompt_ml}]\n",
    "shared_memory = ''\n",
    "\n",
    "while True:    \n",
    "    ## User\n",
    "    q = input('🙂 >')\n",
    "    if q == \"quit\":\n",
    "        break\n",
    "    \n",
    "    messages_sql.append( {\"role\":\"user\", \"content\":q} )\n",
    "    \n",
    "    ## Model\n",
    "    available_tools = {\"final_answer\":tool_final_answer, \n",
    "                       \"get_tables\":tool_get_tables, \"get_schema\":tool_get_schema,\n",
    "                       \"sql_exec\":tool_sql_exec, \"sql_check\":sql_check}\n",
    "    tool_used, memory = '', ''\n",
    "    while tool_used != 'final_answer':\n",
    "        ### use tools\n",
    "        try:\n",
    "            agent_res = ollama.chat(model=llm, messages=messages_sql, \n",
    "                                    tools=[v for v in available_tools.values()])\n",
    "            dic_res = use_tool(agent_res, dic_tools)\n",
    "            res, tool_used, inputs_used = dic_res[\"res\"], dic_res[\"tool_used\"], dic_res[\"inputs_used\"]\n",
    "        ### error\n",
    "        except Exception as e:\n",
    "            print(\"⚠️ >\", e)\n",
    "            res = f\"I tried to use {tool_used} but didn't work. I will try something else.\"\n",
    "            print(\"👽 >\", f\"\\x1b[1;30m{res}\\x1b[0m\")\n",
    "            messages.append( {\"role\":\"assistant\", \"content\":res} )\n",
    "        ### update memory\n",
    "        if tool_used not in ['','final_answer']:\n",
    "            memory += f\"\\nTool used: {tool_used}.\\nInput used: {inputs_used}.\\nOutput: {res}\"\n",
    "            messages.append( {\"role\":\"assistant\", \"content\":memory} )\n",
    "            available_tools.pop(tool_used)\n",
    "            if len(available_tools) == 1:\n",
    "                messages.append( {\"role\":\"user\", \"content\":\"now activate the tool final_answer.\"} )\n",
    "        ### tools not used\n",
    "        if tool_used == '':\n",
    "            break\n",
    "    \n",
    "    ## Response\n",
    "    print(\"👽 >\", f\"\\x1b[1;30m{res}\\x1b[0m\")\n",
    "    messages.append( {\"role\":\"assistant\", \"content\":res} )"
   ]
  }
 ],
 "metadata": {
  "kernelspec": {
   "display_name": "Python 3 (ipykernel)",
   "language": "python",
   "name": "python3"
  },
  "language_info": {
   "codemirror_mode": {
    "name": "ipython",
    "version": 3
   },
   "file_extension": ".py",
   "mimetype": "text/x-python",
   "name": "python",
   "nbconvert_exporter": "python",
   "pygments_lexer": "ipython3",
   "version": "3.11.0"
  }
 },
 "nbformat": 4,
 "nbformat_minor": 5
}
