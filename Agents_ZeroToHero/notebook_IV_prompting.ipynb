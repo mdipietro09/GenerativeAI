{
 "cells": [
  {
   "cell_type": "markdown",
   "id": "71590195-26e8-4a46-b5db-2711a0ba60eb",
   "metadata": {},
   "source": [
    "# GenAI with Python: AI Agents from Zero to Hero"
   ]
  },
  {
   "cell_type": "markdown",
   "id": "3fe894cc-597f-412d-ae45-22f41fde27d3",
   "metadata": {},
   "source": [
    "###### [Read the Article on TDS]()"
   ]
  },
  {
   "cell_type": "code",
   "execution_count": 1,
   "id": "4af83654-f402-4f13-8169-cb337574df70",
   "metadata": {},
   "outputs": [],
   "source": [
    "#pip install ollama==0.5.1\n",
    "import ollama\n",
    "llm = \"qwen2.5\""
   ]
  },
  {
   "cell_type": "code",
   "execution_count": 2,
   "id": "031d13e0-5f0c-47cb-9e36-abc2a3068266",
   "metadata": {},
   "outputs": [],
   "source": [
    "q = \"What is 30 multiplied by 10?\""
   ]
  },
  {
   "cell_type": "markdown",
   "id": "4e3ee6dc-b11a-4cb0-b15c-42aea881c05b",
   "metadata": {},
   "source": [
    "### 1 - Regular Prompting"
   ]
  },
  {
   "cell_type": "code",
   "execution_count": 17,
   "id": "97f5aaa7-ce8a-4a03-ba85-8a8382366ba0",
   "metadata": {},
   "outputs": [
    {
     "name": "stdout",
     "output_type": "stream",
     "text": [
      "300\n"
     ]
    }
   ],
   "source": [
    "response = ollama.chat(model=llm, messages=[\n",
    "    {'role':'user', 'content':q}\n",
    "])\n",
    "print(response['message']['content'])"
   ]
  },
  {
   "cell_type": "markdown",
   "id": "d06d7c69-d622-48b7-a545-beff397d79c3",
   "metadata": {},
   "source": [
    "### 2 - ReAct"
   ]
  },
  {
   "cell_type": "code",
   "execution_count": 23,
   "id": "c1eff71b-de0a-438b-afda-6013909cb1e1",
   "metadata": {},
   "outputs": [
    {
     "name": "stdout",
     "output_type": "stream",
     "text": [
      "Thought: To solve this problem, we simply need to multiply 30 by 10. This is a straightforward arithmetic operation.\n",
      "\n",
      "Action: Since this is a simple calculation and no computational tool is needed, I will directly compute the result.\n",
      "\n",
      "Observation: The multiplication of 30 by 10 equals 300.\n",
      "\n",
      "Thought: Although no external tools are required for this simple calculation, it's important to confirm the accuracy. We can use Qwen's built-in capability for basic arithmetic operations to verify our result.\n",
      "\n",
      "Action: I will use my internal computational function to perform the multiplication and check if it matches our manual calculation.\n",
      "\n",
      "Observation: The multiplication of 30 by 10 is indeed 300.\n",
      "\n",
      "Thought: Now that we have confirmed the accuracy, we can conclude the task.\n",
      "\n",
      "Action: Conclude the task by stating the final result.\n",
      "\n",
      "Observation: The result of multiplying 30 by 10 is 300.\n"
     ]
    }
   ],
   "source": [
    "prompt = '''\n",
    "To solve the task, you must plan forward to proceed in a series of steps, in a cycle of 'Thought:', 'Action:', and 'Observation:' sequences.\n",
    "At each step, in the 'Thought:' sequence, you should first explain your reasoning towards solving the task, then the tools that you want to use.\n",
    "Then in the 'Action:' sequence, you shold use one of your tools.\n",
    "During each intermediate step, you can use 'Observation:' field to save whatever important information you will use as input for the next step.\n",
    "'''\n",
    "\n",
    "response = ollama.chat(model=llm, messages=[\n",
    "    {'role':'user', 'content':q+\" \"+prompt}\n",
    "])\n",
    "print(response['message']['content'])"
   ]
  },
  {
   "cell_type": "markdown",
   "id": "88ab23f8-b0b5-4a7d-94f7-48fb61f2d885",
   "metadata": {},
   "source": [
    "### 3 - Chain of Thought (CoT)"
   ]
  },
  {
   "cell_type": "code",
   "execution_count": 26,
   "id": "56ee1fbd-9078-4622-8966-0aef3f26ebdd",
   "metadata": {},
   "outputs": [
    {
     "name": "stdout",
     "output_type": "stream",
     "text": [
      "Sure! To find the product of 30 and 10, we can break this down into simple steps:\n",
      "\n",
      "1. We start with the number 30.\n",
      "2. Then, we multiply it by 10.\n",
      "\n",
      "When you multiply any number by 10, you simply add a zero to the end of that number. \n",
      "\n",
      "So,\n",
      "- Starting with 30\n",
      "- Adding a zero at the end gives us 300.\n",
      "\n",
      "Therefore, \\( 30 \\times 10 = 300 \\).\n"
     ]
    }
   ],
   "source": [
    "prompt = '''Let’s think step by step.'''\n",
    "\n",
    "response = ollama.chat(model=llm, messages=[\n",
    "    {'role':'user', 'content':q+\" \"+prompt}\n",
    "])\n",
    "print(response['message']['content'])"
   ]
  },
  {
   "cell_type": "markdown",
   "id": "9fe4938e-98c2-4cb9-957a-79239818c35a",
   "metadata": {},
   "source": [
    "### 4 - Reflexion"
   ]
  },
  {
   "cell_type": "code",
   "execution_count": 28,
   "id": "f5b484ab-a655-47dc-b375-30b139da4800",
   "metadata": {},
   "outputs": [
    {
     "name": "stdout",
     "output_type": "stream",
     "text": [
      "Your initial response to explaining how to multiply 30 by 10 is indeed correct, but it could be made more clear and detailed for better understanding. Let's break down the steps even further:\n",
      "\n",
      "### Step-by-Step Explanation\n",
      "\n",
      "1. **Identify the Numbers**:\n",
      "   - The numbers given are \\(30\\) and \\(10\\).\n",
      "\n",
      "2. **Understand Multiplication by 10**:\n",
      "   - When you multiply any number by \\(10\\), you simply add one zero to the end of that number.\n",
      "   \n",
      "3. **Apply This Understanding**:\n",
      "   - Here, we need to find \\(30 \\times 10\\).\n",
      "   - The number is already composed of a tens digit (3) followed by a units digit (0).\n",
      "\n",
      "4. **Add One Zero**:\n",
      "   - When you add one zero to the end of the number 30, it becomes 300.\n",
      "\n",
      "### Conclusion\n",
      "\n",
      "- Therefore, \\(30 \\times 10 = 300\\).\n",
      "\n",
      "Your final answer is correct: The product of 30 and 10 is indeed **300**. \n",
      "\n",
      "If you have any specific doubts or need further clarification on any step, feel free to ask!\n"
     ]
    }
   ],
   "source": [
    "cot_answer = response['message']['content']\n",
    "\n",
    "response = ollama.chat(model=llm, messages=[\n",
    "    {'role':'user', 'content': f'''Here was your original answer:\\n\\n{cot_answer}\\n\\n\n",
    "                               Now reflect on whether it was correct or if it was the best approach. \n",
    "                               If not, correct your reasoning and answer.'''}\n",
    "])\n",
    "print(response['message']['content'])"
   ]
  },
  {
   "cell_type": "markdown",
   "id": "4d599b50-c4c2-4463-9890-9c104e4806af",
   "metadata": {},
   "source": [
    "### 5 - Tree of Thoughts (ToT)"
   ]
  },
  {
   "cell_type": "code",
   "execution_count": 3,
   "id": "57fe0ae8-c98d-4ae2-9cd8-52385f55e21e",
   "metadata": {},
   "outputs": [
    {
     "name": "stdout",
     "output_type": "stream",
     "text": [
      "### Thought Branch 1:\n",
      "In this branch, I'll approach the problem using basic multiplication rules. Multiplying any number by 10 simply involves adding a zero to the end of that number.\n",
      "\n",
      "**Reasoning:**\n",
      "- When you multiply 30 by 10, you are essentially multiplying it by 10.\n",
      "- The multiplication rule for 10 is to add a zero at the end of the given number.\n",
      "\n",
      "So, \\( 30 \\times 10 = 300 \\).\n",
      "\n",
      "**Final Answer:** 300\n",
      "\n",
      "### Thought Branch 2:\n",
      "In this branch, I'll consider how we might break down the problem into simpler steps. Perhaps breaking it into smaller parts or seeing if there's a pattern.\n",
      "\n",
      "**Reasoning:**\n",
      "- We can think of multiplying by 10 as simply shifting the decimal point one place to the right in standard arithmetic.\n",
      "- Alternatively, since 30 is \\(3 \\times 10\\), we can write \\( 30 \\times 10 = (3 \\times 10) \\times 10 \\).\n",
      "\n",
      "So, if we calculate step by step:\n",
      "- First: \\( 30 \\times 10 = 300 \\)\n",
      "- Second: \\( 3 \\times 10 = 30\\)\n",
      "\n",
      "Now multiplying these together: \n",
      "\\[ (3 \\times 10) \\times 10 = 30 \\times 10 = 300 \\]\n",
      "\n",
      "**Final Answer:** 300\n",
      "\n",
      "### Thought Branch 3:\n",
      "In this branch, I'll consider if there's an alternative mathematical operation that could help solve the problem.\n",
      "\n",
      "**Reasoning:**\n",
      "- We can view multiplication as a form of addition. Multiplying by 10 is essentially adding the original number to itself 10 times.\n",
      "- For example, \\( 30 \\times 10 = 30 + 30 + 30 + 30 + 30 + 30 + 30 + 30 + 30 + 30 \\).\n",
      "\n",
      "If we perform this addition:\n",
      "- Adding 30 ten times gives us \\( 30 \\times 10 = 300 \\).\n",
      "\n",
      "**Final Answer:** 300\n",
      "\n",
      "### Evaluation and Conclusion:\n",
      "\n",
      "All three paths lead to the same final answer of 300. The multiplications and additions are equivalent ways of solving the problem, confirming that the initial approach is correct.\n",
      "\n",
      "The best final answer from these branches is **300**, as all reasoning steps logically support this result.\n"
     ]
    }
   ],
   "source": [
    "num_branches = 3\n",
    "\n",
    "prompt = f'''\n",
    "You will think of multiple reasoning paths (thought branches). For each path, write your reasoning and final answer.\n",
    "After exploring {num_branches} different thoughts, pick the best final answer and explain why.\n",
    "'''\n",
    "\n",
    "response = ollama.chat(model=llm, messages=[\n",
    "    {'role':'user', 'content': f\"Task: {q} \\n{prompt}\"}\n",
    "])\n",
    "print(response['message']['content'])"
   ]
  },
  {
   "cell_type": "markdown",
   "id": "7bc08aea-6251-40a2-98ab-8784cc6c578e",
   "metadata": {},
   "source": [
    "### 6 - Graph of Thoughts (GoT)"
   ]
  },
  {
   "cell_type": "code",
   "execution_count": 6,
   "id": "ca745a7a-c068-4623-a254-fd813cf5c3af",
   "metadata": {},
   "outputs": [
    {
     "name": "stdout",
     "output_type": "stream",
     "text": [
      "Let's approach this task step-by-step.\n",
      "\n",
      "### Path 1: Basic Multiplication Concept\n",
      "\n",
      "1. **Understanding the Problem**: The problem is to find the product of 30 and 10.\n",
      "   \n",
      "   - We need to multiply these two numbers together, which can be visualized as adding 30 ten times or adding 10 thirty times.\n",
      "\n",
      "2. **Breaking Down Addition**: \n",
      "   - Adding 30 ten times: \\( 30 + 30 + 30 + 30 + 30 + 30 + 30 + 30 + 30 + 30 \\)\n",
      "   \n",
      "   - Adding 10 thirty times: \\( 10 + 10 + 10 + 10 + 10 + 10 + 10 + 10 + 10 + 10 + 10 + 10 + 10 + 10 + 10 + 10 + 10 + 10 + 10 + 10 + 10 + 10 + 10 + 10 \\)\n",
      "\n",
      "3. **Counting the Total Number of Units**: \n",
      "   - For 30 added ten times, we have \\( 30 \\times 10 = 300 \\) (since each addition increases by 30 and is repeated 10 times).\n",
      "   \n",
      "   - For 10 added thirty times, we have \\( 10 \\times 30 = 300 \\).\n",
      "\n",
      "4. **Conclusion**:\n",
      "   - Both calculations result in the same total: 300.\n",
      "\n",
      "### Path 2: Using Place Value Understanding\n",
      "\n",
      "1. **Understanding Place Values**: Each digit's value depends on its position.\n",
      "   \n",
      "   - In 30, the '3' is in the tens place, so it represents 30 (or simply 3 * 10 = 30).\n",
      "   - The '0' represents no value.\n",
      "\n",
      "2. **Multiplication with Place Values**:\n",
      "   - For 30, when multiplied by 10, each digit of 3 is effectively moved one place to the left in a positional system.\n",
      "   \n",
      "   - Hence, \\( 30 \\times 10 = 300 \\).\n",
      "\n",
      "3. **Verification**: \n",
      "   - Breaking it down: \\( 30 \\times 10 = (3 \\times 10) + (0 \\times 10) = 30 + 0 = 30 \\)\n",
      "   \n",
      "   - The value of each unit digit in 30 remains the same, but its position shifts to represent tens. So we get \\( 30 \\times 10 = 300 \\).\n",
      "\n",
      "### Final Answer:\n",
      "Both paths lead us to the conclusion that 30 multiplied by 10 equals 300.\n",
      "\n",
      "Thus, the final answer is 300.\n"
     ]
    }
   ],
   "source": [
    "prompt = '''\n",
    "Think step-by-step but allow yourself to revisit and revise earlier steps if needed.\n",
    "Describe your thoughts as nodes connected by reasoning links.\n",
    "Explore at least 2 paths, show their connections, and converge on a final answer.\n",
    "'''\n",
    "\n",
    "response = ollama.chat(model=llm, messages=[\n",
    "    {'role':'user', 'content': f\"Task: {q} \\n{prompt}\"}\n",
    "])\n",
    "print(response['message']['content'])"
   ]
  },
  {
   "cell_type": "code",
   "execution_count": 13,
   "id": "12970445-a0c2-497a-8cee-61a01dbb68c9",
   "metadata": {},
   "outputs": [
    {
     "name": "stdout",
     "output_type": "stream",
     "text": [
      "\n",
      "--- Current Thoughts ---\n",
      "Thought1: 30 multiplied by 10 equals 300.\n",
      "\n",
      "Thought2: Thought2: \"An alternative way to think about 30 multiplied by 10 is considering it as adding 30 ten times. For instance, we could count: 30 + 30 = 60, then 60 + 30 = 90 and so on until we reach 300 after adding it ten times.\"\n",
      "\n",
      "This new thought (Thought2) relates to the previous one (Thought1) by providing a different perspective on why multiplying 30 by 10 equals 300. While Thought1 directly states \"30 multiplied by 10 equals 300\" without explanation, Thought2 explains this conceptually and provides additional context through repeated addition. Both thoughts essentially convey the same mathematical fact but with a different focus: one is procedural (direct calculation) while the other is conceptual (repeated counting).\n",
      "\n",
      "--- Connections ---\n",
      "Thought1 --[expansion]--> Thought2\n",
      "\n",
      "\n",
      "30 multiplied by 10 equals 300.\n"
     ]
    }
   ],
   "source": [
    "class GoT:\n",
    "    def __init__(self, question):\n",
    "        self.question = question\n",
    "        self.nodes = {}  # node_id: text\n",
    "        self.edges = []  # (from_node, to_node, relation)\n",
    "        self.counter = 1\n",
    "\n",
    "    def add_node(self, text):\n",
    "        node_id = f\"Thought{self.counter}\"\n",
    "        self.nodes[node_id] = text\n",
    "        self.counter += 1\n",
    "        return node_id\n",
    "\n",
    "    def add_edge(self, from_node, to_node, relation):\n",
    "        self.edges.append((from_node, to_node, relation))\n",
    "\n",
    "    def show(self):\n",
    "        print(\"\\n--- Current Thoughts ---\")\n",
    "        for node_id, text in self.nodes.items():\n",
    "            print(f\"{node_id}: {text}\\n\")\n",
    "        print(\"--- Connections ---\")\n",
    "        for f, t, r in self.edges:\n",
    "            print(f\"{f} --[{r}]--> {t}\")\n",
    "        print(\"\\n\")\n",
    "\n",
    "    def expand_thought(self, node_id):\n",
    "        prompt = f\"\"\"\n",
    "        You are reasoning about the task: {self.question}\n",
    "        Here is a previous thought node ({node_id}):\\\"\\\"\\\"{self.nodes[node_id]}\\\"\\\"\\\"\n",
    "        Please provide a refinement, an alternative viewpoint, or a related thought that connects to this node.\n",
    "        Label your new thought clearly, and explain its relation to the previous one.\n",
    "        \"\"\"\n",
    "        response = ollama.chat(model=llm, messages=[{'role':'user', 'content':prompt}])\n",
    "        return response['message']['content']\n",
    "\n",
    "## Start Graph\n",
    "g = GoT(q)\n",
    "\n",
    "## Get initial thought\n",
    "response = ollama.chat(model=llm, messages=[\n",
    "    {'role':'user', 'content':q}\n",
    "])\n",
    "n1 = g.add_node(response['message']['content'])\n",
    "\n",
    "## Expand initial thought with some refinements\n",
    "refinements = 1\n",
    "for _ in range(refinements):\n",
    "    expansion = g.expand_thought(n1)\n",
    "    n_new = g.add_node(expansion)\n",
    "    g.add_edge(n1, n_new, \"expansion\")\n",
    "    g.show()\n",
    "\n",
    "## Final Answer\n",
    "prompt = f'''\n",
    "Here are the reasoning thoughts so far:\n",
    "{chr(10).join([f\"{k}: {v}\" for k,v in g.nodes.items()])}\n",
    "Based on these, select the best reasoning and final answer for the task: {q}\n",
    "Explain your choice.\n",
    "'''\n",
    "\n",
    "response = ollama.chat(model=llm, messages=[\n",
    "    {'role':'user', 'content':q}\n",
    "])\n",
    "print(response['message']['content'])"
   ]
  },
  {
   "cell_type": "markdown",
   "id": "bc451b8b-b7b2-4db9-b81c-43dcd6ec6d92",
   "metadata": {},
   "source": [
    "### 7 - Program of Thoughts (PoT) "
   ]
  },
  {
   "cell_type": "code",
   "execution_count": 10,
   "id": "7ae252cc-d8f7-4c7e-9199-46e6f3622c4a",
   "metadata": {},
   "outputs": [
    {
     "name": "stdout",
     "output_type": "stream",
     "text": [
      "```python\n",
      "result = 30 * 10\n",
      "```\n"
     ]
    },
    {
     "data": {
      "text/plain": [
       "300"
      ]
     },
     "execution_count": 10,
     "metadata": {},
     "output_type": "execute_result"
    }
   ],
   "source": [
    "import re\n",
    "\n",
    "def extract_python_code(text):\n",
    "    match = re.search(r\"```python(.*?)```\", text, re.DOTALL)\n",
    "    if match:\n",
    "        return match.group(1).strip()\n",
    "    return None\n",
    "\n",
    "def sandbox_exec(code):\n",
    "    ## Create a minimal sandbox with safety limitation\n",
    "    allowed_builtins = {'abs', 'min', 'max', 'pow', 'round'}\n",
    "    safe_globals = {k: __builtins__.__dict__[k] for k in allowed_builtins if k in __builtins__.__dict__}\n",
    "    safe_locals = {}\n",
    "    exec(code, safe_globals, safe_locals)\n",
    "    return safe_locals.get('result', None)\n",
    "\n",
    "prompt = '''\n",
    "Write a short Python program that calculates the answer and assigns it to a variable named 'result'.  \n",
    "Return only the code enclosed in triple backticks with 'python' (```python ... ```).\n",
    "'''\n",
    "\n",
    "response = ollama.chat(model=llm, messages=[\n",
    "    {'role':'user', 'content': f\"Task: {q} \\n{prompt}\"}\n",
    "])\n",
    "print(response['message']['content'])\n",
    "sandbox_exec(code=extract_python_code(text=response['message']['content']))"
   ]
  }
 ],
 "metadata": {
  "kernelspec": {
   "display_name": "Python 3 (ipykernel)",
   "language": "python",
   "name": "python3"
  },
  "language_info": {
   "codemirror_mode": {
    "name": "ipython",
    "version": 3
   },
   "file_extension": ".py",
   "mimetype": "text/x-python",
   "name": "python",
   "nbconvert_exporter": "python",
   "pygments_lexer": "ipython3",
   "version": "3.12.2"
  }
 },
 "nbformat": 4,
 "nbformat_minor": 5
}
